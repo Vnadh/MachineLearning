{
  "nbformat": 4,
  "nbformat_minor": 0,
  "metadata": {
    "colab": {
      "provenance": [],
      "mount_file_id": "1et31x0W-2o5JNOpONo6n-1eViz388uvw",
      "authorship_tag": "ABX9TyOYP9PFGPrXQD1IZhIBwU2c",
      "include_colab_link": true
    },
    "kernelspec": {
      "name": "python3",
      "display_name": "Python 3"
    },
    "language_info": {
      "name": "python"
    }
  },
  "cells": [
    {
      "cell_type": "markdown",
      "metadata": {
        "id": "view-in-github",
        "colab_type": "text"
      },
      "source": [
        "<a href=\"https://colab.research.google.com/github/Vnadh/MachineLearning/blob/main/PCA.ipynb\" target=\"_parent\"><img src=\"https://colab.research.google.com/assets/colab-badge.svg\" alt=\"Open In Colab\"/></a>"
      ]
    },
    {
      "cell_type": "markdown",
      "source": [
        "Time Series Room Temperature Dataset is generated with help of an IOT Device data\n",
        "representing room air temperature values with respect time. In Time Series observations\n",
        "are functions of time, each data corresponds to an instance of time, so there is a\n",
        "relationship between different data points of the dataset. A special case of time series is\n",
        "univariate time series where you have only one feature to deal with. The dataset consists\n",
        "of the following features:\n",
        "1) Hourly _Temp contains mean Supply Air Temperature value in degree centigrade per\n",
        "hour,\n",
        "2) Datetime shows date and Hour of data recording\n",
        "This Dataset represents “Univariate time series” values of temperature, which is\n",
        "specific to time series analysis\n",
        "Do the following tasks on the dataset\n",
        "\n",
        "1. Find out the principal components of the independent variable (10M)\n",
        "2. Find the missing values, outliers in the dataset (5M)\n",
        "3. Apply the normalization technique on the features (5M)\n",
        "4. Plot the features based on different ranges (10M)"
      ],
      "metadata": {
        "id": "2SDDiWlBcVrH"
      }
    },
    {
      "cell_type": "markdown",
      "source": [
        "# Find out the principal components of the independent variable (10M):"
      ],
      "metadata": {
        "id": "VnmBKNCkcZUF"
      }
    },
    {
      "cell_type": "code",
      "execution_count": null,
      "metadata": {
        "id": "2kLb5ecqbxI2"
      },
      "outputs": [],
      "source": [
        "import pandas as pd\n",
        "from sklearn.preprocessing import StandardScaler\n",
        "from sklearn.decomposition import PCA\n",
        "\n",
        "# Load your dataset\n",
        "data = pd.read_csv(\"/content/drive/MyDrive/MLTempDataset.csv\")\n",
        "\n",
        "# Select the independent variable (Hourly_Temp) for PCA\n",
        "X = data[\"DAYTON_MW\"]\n",
        "\n",
        "# Standardize the data\n",
        "scaler = StandardScaler()\n",
        "X_scaled = scaler.fit_transform(X.values.reshape(-1, 1))\n",
        "\n",
        "# Perform PCA with one component (you can choose the number of components you want)\n",
        "n_components = 1\n",
        "pca = PCA(n_components=n_components)\n",
        "X_pca = pca.fit_transform(X_scaled)\n",
        "\n",
        "# Principal components\n",
        "principal_components = pca.components_\n",
        "\n",
        "# Variance explained by each component\n",
        "explained_variance_ratio = pca.explained_variance_ratio_\n",
        "\n",
        "# You can now analyze the principal components and explained variance ratios\n"
      ]
    },
    {
      "cell_type": "markdown",
      "source": [
        "# Find the missing values, outliers in the dataset (5M):"
      ],
      "metadata": {
        "id": "IqJmHrv_dJn1"
      }
    },
    {
      "cell_type": "code",
      "source": [
        "# Check for missing values\n",
        "missing_values = data.isnull().sum()\n",
        "\n",
        "# Handle missing values (e.g., impute with mean, median, or remove rows/columns)\n",
        "data = data.fillna(method='ffill')  # Forward fill missing values\n"
      ],
      "metadata": {
        "id": "qAc607sqdM38"
      },
      "execution_count": null,
      "outputs": []
    },
    {
      "cell_type": "code",
      "source": [
        "from scipy import stats\n",
        "\n",
        "# Calculate z-scores for Hourly_Temp\n",
        "z_scores = stats.zscore(data[\"DAYTON_MW\"])\n",
        "\n",
        "# Identify outliers (threshold z-score can be adjusted)\n",
        "outliers = data[abs(z_scores) > 3]\n",
        "\n",
        "# Handle outliers (e.g., remove or replace with mean/median)\n",
        "data = data[abs(z_scores) <= 3]  # Remove outliers\n"
      ],
      "metadata": {
        "id": "QQAXPjZcdlzD"
      },
      "execution_count": null,
      "outputs": []
    },
    {
      "cell_type": "markdown",
      "source": [
        "# Apply the normalization technique on the features (5M):"
      ],
      "metadata": {
        "id": "VyZWYJSndwZi"
      }
    },
    {
      "cell_type": "code",
      "source": [
        "from sklearn.preprocessing import MinMaxScaler\n",
        "\n",
        "# Create a Min-Max scaler\n",
        "scaler = MinMaxScaler()\n",
        "\n",
        "# Apply Min-Max scaling to the Hourly_Temp feature\n",
        "data[\"DAYTON_MW\"] = scaler.fit_transform(data[\"DAYTON_MW\"].values.reshape(-1, 1))\n",
        "\n",
        "# Now, the Hourly_Temp feature is normalized between 0 and 1\n"
      ],
      "metadata": {
        "id": "gTvg4XPhd2mc"
      },
      "execution_count": null,
      "outputs": []
    },
    {
      "cell_type": "markdown",
      "source": [
        "# Plot the features based on different ranges (10M):"
      ],
      "metadata": {
        "id": "L--9lJrveF2O"
      }
    },
    {
      "cell_type": "code",
      "source": [
        "import matplotlib.pyplot as plt\n",
        "\n",
        "# Plot histogram of Hourly_Temp\n",
        "plt.hist(data[\"DAYTON_MW\"], bins=20, color='blue', alpha=0.7)\n",
        "plt.xlabel(\"Hourly Temperature\")\n",
        "plt.ylabel(\"Frequency\")\n",
        "plt.title(\"Histogram of Hourly Temperature\")\n",
        "plt.show()\n"
      ],
      "metadata": {
        "colab": {
          "base_uri": "https://localhost:8080/",
          "height": 472
        },
        "id": "ho8z1Y-DeKzW",
        "outputId": "b7c60f86-bba4-45ff-c5d5-2b9a454296eb"
      },
      "execution_count": null,
      "outputs": [
        {
          "output_type": "display_data",
          "data": {
            "text/plain": [
              "<Figure size 640x480 with 1 Axes>"
            ],
            "image/png": "[encoded data removed]"
          },
          "metadata": {}
        }
      ]
    },
    {
      "cell_type": "markdown",
      "source": [
        "Attribute Information\n",
        "\n",
        "1. Age: age of the patient [years]\n",
        "2. Sex: sex of the patient [M: Male, F: Female]\n",
        "3. ChestPainType: chest pain type [TA: Typical Angina, ATA: Atypical Angina, NAP:\n",
        "Non-Anginal Pain, ASY: Asymptomatic]\n",
        "4. RestingBP: resting blood pressure [mm Hg]\n",
        "5. Cholesterol: serum cholesterol [mm/dl]\n",
        "6. FastingBS: fasting blood sugar [1: if FastingBS > 120 mg/dl, 0: otherwise]\n",
        "7. RestingECG: resting electrocardiogram results [Normal: Normal, ST: having ST-T\n",
        "wave abnormality (T wave inversions and/or ST elevation or depression of > 0.05\n",
        "mV), LVH: showing probable or definite left ventricular hypertrophy by Estes'\n",
        "criteria]\n",
        "8. MaxHR: maximum heart rate achieved [Numeric value between 60 and 202]\n",
        "9. ExerciseAngina: exercise-induced angina [Y: Yes, N: No]\n",
        "10.Oldpeak: oldpeak = ST [Numeric value measured in depression]\n",
        "11. ST_Slope: the slope of the peak exercise ST segment [Up: upsloping, Flat: flat,\n",
        "Down: downsloping]\n",
        "12.HeartDisease: output class [1: heart disease, 0: Normal]\n",
        "HeartDisease is the target variable.\n",
        "Do the following things:\n",
        "1. Display the number of rows belong to heart disease and normal (5M)\n",
        "2. Find out the null values and use the appropriate method to deal with such data\n",
        "(5M)\n",
        "3. The following features are Encoded: Sex, ChestPainType, RestingECG, ExerciseAngina,\n",
        "ST_Slope. (5M)\n",
        "\n",
        "Convert the data into numerical values using the right method\n",
        "4. Use the kNN model for the features Sex, ChestPainType to predict the target variable for the\n",
        "following data: (7.5M)\n",
        "\n",
        "Age Se\n",
        "x\n",
        "Chest\n",
        "PainTy\n",
        "pe\n",
        "Resti\n",
        "ngBP\n",
        "Chole\n",
        "sterol\n",
        "Fasti\n",
        "ngBS\n",
        "Restin\n",
        "gECG\n",
        "MaxH\n",
        "R\n",
        "Exerci\n",
        "seAngi\n",
        "na\n",
        "Oldp\n",
        "eak\n",
        "ST_S\n",
        "lope\n",
        "HeartDi\n",
        "sease\n",
        "\n",
        "40 M ATA 140 289 0 Normal 172 N 0 Up 0\n",
        "49 F NAP 160 180 0 Normal 156 N 1 Flat 1\n",
        "37 M ATA 130 283 0 ST 98 N 0 Up 0\n",
        "48 F ASY 138 214 0 Normal 108 Y 1.5 Flat 1\n",
        "54 M NAP 150 195 0 Normal 122 N 0 Up 0\n",
        "39 M NAP 120 339 0 Normal 170 N 0 Up 0\n",
        "45 F ATA 130 237 0 Normal 170 N 0 Up 0\n",
        "54 M ATA 110 208 0 Normal 142 N 0 Up 0\n",
        "37 M ASY 140 207 0 Normal 130 Y 1.5 Flat 1\n",
        "\n",
        "5. Repeat the above experiment using the features Oldpeak, ChestPainType, SEX and\n",
        "find out the most effective features for predicting the heart failure. (7.5M)"
      ],
      "metadata": {
        "id": "g3JVnlEBeYZm"
      }
    },
    {
      "cell_type": "markdown",
      "source": [
        "# Display the number of rows belonging to heart disease and normal (5M):"
      ],
      "metadata": {
        "id": "7P8gKj2geyKc"
      }
    },
    {
      "cell_type": "code",
      "source": [
        "import pandas as pd\n",
        "\n",
        "# Load your dataset\n",
        "data = pd.read_csv(\"/content/drive/MyDrive/heart.csv\")\n",
        "\n",
        "# Count the number of rows for each class\n",
        "class_counts = data[\"HeartDisease\"].value_counts()\n",
        "\n",
        "# Display the counts\n",
        "print(class_counts)\n"
      ],
      "metadata": {
        "colab": {
          "base_uri": "https://localhost:8080/"
        },
        "id": "QgDn8LVXfUPs",
        "outputId": "0b0f0ffa-a413-4392-9257-765b1d2d7163"
      },
      "execution_count": null,
      "outputs": [
        {
          "output_type": "stream",
          "name": "stdout",
          "text": [
            "1    508\n",
            "0    410\n",
            "Name: HeartDisease, dtype: int64\n"
          ]
        }
      ]
    },
    {
      "cell_type": "markdown",
      "source": [
        "#  Find out the null values and use the appropriate method to deal with such data (5M):"
      ],
      "metadata": {
        "id": "dASrC6LMffi3"
      }
    },
    {
      "cell_type": "code",
      "source": [
        "# Check for null values in the dataset\n",
        "null_counts = data.isnull().sum()\n",
        "\n",
        "# Handle null values based on the feature type and your analysis goals\n",
        "# Example for numerical feature (Replace with mean):\n",
        "data[\"Age\"].fillna(data[\"Age\"].mean(), inplace=True)\n",
        "\n",
        "# Example for categorical feature (Replace with mode):\n",
        "data[\"ChestPainType\"].fillna(data[\"ChestPainType\"].mode()[0], inplace=True)\n"
      ],
      "metadata": {
        "id": "kTA6nTRfgImG"
      },
      "execution_count": null,
      "outputs": []
    },
    {
      "cell_type": "markdown",
      "source": [
        "# Convert the following features into numerical values (5M):"
      ],
      "metadata": {
        "id": "yOspBeSFgNhh"
      }
    },
    {
      "cell_type": "code",
      "source": [
        "# Using label encoding for Sex, ChestPainType, RestingECG, ExerciseAngina, and ST_Slope\n",
        "from sklearn.preprocessing import LabelEncoder\n",
        "\n",
        "label_encoder = LabelEncoder()\n",
        "\n",
        "data[\"Sex\"] = label_encoder.fit_transform(data[\"Sex\"])\n",
        "data[\"ChestPainType\"] = label_encoder.fit_transform(data[\"ChestPainType\"])\n",
        "data[\"RestingECG\"] = label_encoder.fit_transform(data[\"RestingECG\"])\n",
        "data[\"ExerciseAngina\"] = label_encoder.fit_transform(data[\"ExerciseAngina\"])\n",
        "data[\"ST_Slope\"] = label_encoder.fit_transform(data[\"ST_Slope\"])\n"
      ],
      "metadata": {
        "id": "emaayqyPgQoF"
      },
      "execution_count": null,
      "outputs": []
    }
  ]
}