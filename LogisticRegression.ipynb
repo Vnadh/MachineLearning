{
  "nbformat": 4,
  "nbformat_minor": 0,
  "metadata": {
    "colab": {
      "provenance": [],
      "authorship_tag": "ABX9TyOJEC5HPQKNGtIfyG3N6A2x",
      "include_colab_link": true
    },
    "kernelspec": {
      "name": "python3",
      "display_name": "Python 3"
    },
    "language_info": {
      "name": "python"
    }
  },
  "cells": [
    {
      "cell_type": "markdown",
      "metadata": {
        "id": "view-in-github",
        "colab_type": "text"
      },
      "source": [
        "<a href=\"https://colab.research.google.com/github/Vnadh/MachineLearning/blob/main/LogisticRegression.ipynb\" target=\"_parent\"><img src=\"https://colab.research.google.com/assets/colab-badge.svg\" alt=\"Open In Colab\"/></a>"
      ]
    },
    {
      "cell_type": "code",
      "execution_count": null,
      "metadata": {
        "id": "urwpchbR0lT_",
        "outputId": "39081bb8-f402-4eaa-8325-c0af833ee404",
        "colab": {
          "base_uri": "https://localhost:8080/"
        }
      },
      "outputs": [
        {
          "output_type": "stream",
          "name": "stdout",
          "text": [
            "[0 1]\n",
            "[-1.04608067]\n",
            "[[0.51491375]]\n",
            "[0 0 0 1 1 1 1 1 1 1]\n",
            "0.9\n",
            "[[0.74002157 0.25997843]\n",
            " [0.62975524 0.37024476]\n",
            " [0.5040632  0.4959368 ]\n",
            " [0.37785549 0.62214451]\n",
            " [0.26628093 0.73371907]\n",
            " [0.17821501 0.82178499]\n",
            " [0.11472079 0.88527921]\n",
            " [0.07186982 0.92813018]\n",
            " [0.04422513 0.95577487]\n",
            " [0.02690569 0.97309431]]\n"
          ]
        }
      ],
      "source": [
        "import numpy as np\n",
        "from sklearn.linear_model import LogisticRegression\n",
        "from sklearn.metrics import classification_report,confusion_matrix\n",
        "x=np.arange(10).reshape(-1,1)\n",
        "y=np.array([0,0,0,0,1,1,1,1,1,1])\n",
        "model = LogisticRegression(solver='liblinear',random_state=0)\n",
        "model.fit(x,y)\n",
        "print(model.classes_)\n",
        "print(model.intercept_)\n",
        "print(model.coef_)\n",
        "print(model.predict(x))\n",
        "print(model.score(x,y))\n",
        "print(model.predict_proba(x))"
      ]
    },
    {
      "cell_type": "code",
      "source": [],
      "metadata": {
        "id": "VfqQWERq0pT2"
      },
      "execution_count": null,
      "outputs": []
    }
  ]
}